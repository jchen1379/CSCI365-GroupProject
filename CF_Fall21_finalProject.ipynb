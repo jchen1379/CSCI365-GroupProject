{
  "nbformat": 4,
  "nbformat_minor": 0,
  "metadata": {
    "kernelspec": {
      "display_name": "Python 3 (ipykernel)",
      "language": "python",
      "name": "python3"
    },
    "language_info": {
      "codemirror_mode": {
        "name": "ipython",
        "version": 3
      },
      "file_extension": ".py",
      "mimetype": "text/x-python",
      "name": "python",
      "nbconvert_exporter": "python",
      "pygments_lexer": "ipython3",
      "version": "3.8.10"
    },
    "colab": {
      "name": "CF_Fall21_finalProject.ipynb",
      "provenance": []
    }
  },
  "cells": [
    {
      "cell_type": "markdown",
      "metadata": {
        "id": "Caa4sVTuF2t3"
      },
      "source": [
        "## CSCI 365/765 Final Project"
      ]
    },
    {
      "cell_type": "markdown",
      "metadata": {
        "id": "5S8nWhkNF2t4"
      },
      "source": [
        "### Instructor: Alex Pang, Fall 2021\n",
        "### Student Name: Jianhui Chen, Chingkung Lin, Weifeng Zhao"
      ]
    },
    {
      "cell_type": "markdown",
      "metadata": {
        "id": "lyw4gJpTF2t4"
      },
      "source": [
        "***The goal of this notebook is to test the implementation of some of the calculators you implement***"
      ]
    },
    {
      "cell_type": "code",
      "metadata": {
        "id": "nwBZmI-hF2t5"
      },
      "source": [
        "import pandas as pd\n",
        "import numpy as np\n",
        "import seaborn as sns\n",
        "import plotly.express as px\n",
        "\n",
        "from datetime import date\n",
        "from dateutil.relativedelta import relativedelta"
      ],
      "execution_count": 99,
      "outputs": []
    },
    {
      "cell_type": "markdown",
      "metadata": {
        "id": "le2eXUXvF2t5"
      },
      "source": [
        "### Part 1: Bond Calculator"
      ]
    },
    {
      "cell_type": "markdown",
      "metadata": {
        "id": "2OhEfCnsF2t5"
      },
      "source": [
        "**We will assume the pricing date is the same as the issue date of the bond, unless otherwise stated**"
      ]
    },
    {
      "cell_type": "code",
      "metadata": {
        "id": "kX9qrv1MF2t5"
      },
      "source": [
        "from bond_calculator import *\n",
        "#from bond_calculator_AP import *"
      ],
      "execution_count": 100,
      "outputs": []
    },
    {
      "cell_type": "code",
      "metadata": {
        "id": "1EbeRfY5F2t5"
      },
      "source": [
        "pricing_date = date(2021, 1, 1)\n",
        "issue_date = date(2021, 1, 1)"
      ],
      "execution_count": 101,
      "outputs": []
    },
    {
      "cell_type": "code",
      "metadata": {
        "id": "7YIlVru5F2t5"
      },
      "source": [
        "## Create an Bond Calculator for a pricing date\n",
        "engine = BondCalculator(pricing_date)"
      ],
      "execution_count": 102,
      "outputs": []
    },
    {
      "cell_type": "markdown",
      "metadata": {
        "id": "IYoDsdfkF2t6"
      },
      "source": [
        "***We will be using bonds defined Example 2, 3 and 4 of the BondMath notebook. We will refer them as bond2, bond3 and bond4 for the rest of the notebook***"
      ]
    },
    {
      "cell_type": "code",
      "metadata": {
        "id": "eLDKUFnqF2t6"
      },
      "source": [
        "## Fill in the missing code below\n",
        "\n",
        "# bond2 is a 10Y annual payment bond with 5% coupon & 30/360 daycount\n",
        "# bond3 is a 2Y semi-annual payment bond with 8% coupon & Actual/360 daycount\n",
        "# bond4 is a 5Y semi-annual payment bond with 5% coupon & Actual/Actual daycount\n",
        "\n",
        "bond2 = Bond(issue_date, term=10, day_count = DayCount.DAYCOUNT_30360,\n",
        "            payment_freq = PaymentFrequency.ANNUAL,\n",
        "            coupon = 0.05)\n",
        "\n",
        "#bond3 = Bond(issue_date, ....)\n",
        "\n",
        "#bond4 = Bond(...)"
      ],
      "execution_count": 103,
      "outputs": []
    },
    {
      "cell_type": "code",
      "metadata": {
        "id": "eh4Lu5ZSO_aF",
        "colab": {
          "base_uri": "https://localhost:8080/"
        },
        "outputId": "c758ca43-eaff-4336-814e-4d5e56ca4add"
      },
      "source": [
        "print(\"Maturity Date: \", bond2.maturity_date)\n",
        "print(\"Payment Dates:\", bond2.payment_dates)\n",
        "print(\"Coupon Payment:\", bond2.coupon_payment)\n",
        "print(\"Payment time in year:\", bond2.payment_times_in_year)"
      ],
      "execution_count": 104,
      "outputs": [
        {
          "output_type": "stream",
          "name": "stdout",
          "text": [
            "Maturity Date:  2031-01-01\n",
            "Payment Dates: [datetime.date(2022, 1, 1), datetime.date(2023, 1, 1), datetime.date(2024, 1, 1), datetime.date(2025, 1, 1), datetime.date(2026, 1, 1), datetime.date(2027, 1, 1), datetime.date(2028, 1, 1), datetime.date(2029, 1, 1), datetime.date(2030, 1, 1), datetime.date(2031, 1, 1)]\n",
            "Coupon Payment: [5.0, 5.0, 5.0, 5.0, 5.0, 5.0, 5.0, 5.0, 5.0, 5.0]\n",
            "Payment time in year: [1, 2, 3, 4, 5, 6, 7, 8, 9, 10]\n"
          ]
        }
      ]
    },
    {
      "cell_type": "markdown",
      "metadata": {
        "id": "vPootr7vF2t6"
      },
      "source": [
        "**Question 1: (a) Price bond2 and bond3 at 6% yield. (b) Calculate the yield of bond4 if it is priced at 103.72**"
      ]
    },
    {
      "cell_type": "markdown",
      "metadata": {
        "id": "FlrT7lzxKvwW"
      },
      "source": [
        "#Bond3: 2Y semi-annual payment bond with 8% coupon & Actual/360 daycount"
      ]
    },
    {
      "cell_type": "code",
      "metadata": {
        "colab": {
          "base_uri": "https://localhost:8080/"
        },
        "id": "lvqGWZbkKvIM",
        "outputId": "11e3c3ad-f06c-42f4-ee46-4e03666f3100"
      },
      "source": [
        "bond3 = Bond(issue_date, term = 2, day_count =DayCount.DAYCOUNT_ACTUAL_360,\n",
        "            payment_freq = PaymentFrequency.SEMIANNUAL,\n",
        "            coupon = 0.08)\n",
        "\n",
        "# check if its characteristic are right\n",
        "print(\"Maturity Date: \", bond3.maturity_date)\n",
        "print(\"Payment Dates:\", bond3.payment_dates)\n",
        "print(\"Coupon Payment:\", bond3.coupon_payment)\n",
        "print(\"Payment time in year:\", bond3.payment_times_in_year)"
      ],
      "execution_count": 12,
      "outputs": [
        {
          "output_type": "stream",
          "name": "stdout",
          "text": [
            "Maturity Date:  2023-01-01\n",
            "Payment Dates: [datetime.date(2021, 7, 1), datetime.date(2022, 1, 1), datetime.date(2022, 7, 1), datetime.date(2023, 1, 1)]\n",
            "Coupon Payment: [4.0, 4.0, 4.0, 4.0]\n",
            "Payment time in year: [0.5, 1.0, 1.5, 2.0]\n"
          ]
        }
      ]
    },
    {
      "cell_type": "markdown",
      "metadata": {
        "id": "JLN2d9ftMCe5"
      },
      "source": [
        "# bond4 is a 5Y semi-annual payment bond with 5% coupon & Actual/Actual daycount\n"
      ]
    },
    {
      "cell_type": "code",
      "metadata": {
        "colab": {
          "base_uri": "https://localhost:8080/"
        },
        "id": "w8pORtxBMEFz",
        "outputId": "7a9f3c6a-6dfb-43a9-ca27-57b71ef3da00"
      },
      "source": [
        "bond4 = Bond(issue_date, term = 5, day_count =DayCount.DAYCOUNT_ACTUAL_ACTUAL,\n",
        "            payment_freq = PaymentFrequency.SEMIANNUAL,\n",
        "            coupon = 0.05)\n",
        "\n",
        "# check if its characteristic are right\n",
        "print(\"Maturity Date: \", bond4.maturity_date)\n",
        "print(\"Payment Dates:\", bond4.payment_dates)\n",
        "print(\"Coupon Payment:\", bond4.coupon_payment)\n",
        "print(\"Payment time in year:\", bond4.payment_times_in_year)"
      ],
      "execution_count": 13,
      "outputs": [
        {
          "output_type": "stream",
          "name": "stdout",
          "text": [
            "Maturity Date:  2026-01-01\n",
            "Payment Dates: [datetime.date(2021, 7, 1), datetime.date(2022, 1, 1), datetime.date(2022, 7, 1), datetime.date(2023, 1, 1), datetime.date(2023, 7, 1), datetime.date(2024, 1, 1), datetime.date(2024, 7, 1), datetime.date(2025, 1, 1), datetime.date(2025, 7, 1), datetime.date(2026, 1, 1)]\n",
            "Coupon Payment: [2.5, 2.5, 2.5, 2.5, 2.5, 2.5, 2.5, 2.5, 2.5, 2.5]\n",
            "Payment time in year: [0.5, 1.0, 1.5, 2.0, 2.5, 3.0, 3.5, 4.0, 4.5, 5.0]\n"
          ]
        }
      ]
    },
    {
      "cell_type": "markdown",
      "metadata": {
        "id": "RNuJUOMNLtG2"
      },
      "source": [
        " # (b) Calculate the yield of bond4 if it is priced at 103.72"
      ]
    },
    {
      "cell_type": "code",
      "metadata": {
        "colab": {
          "base_uri": "https://localhost:8080/"
        },
        "id": "IVf2pKq5Lsq-",
        "outputId": "1ba63489-dbda-446b-e83f-dd4ec3be27f2"
      },
      "source": [
        "px1=engine.calc_yield(bond4, 103.72)\n",
        "print(round(px1,8))"
      ],
      "execution_count": 106,
      "outputs": [
        {
          "output_type": "stream",
          "name": "stdout",
          "text": [
            "0.04168084\n"
          ]
        }
      ]
    },
    {
      "cell_type": "markdown",
      "metadata": {
        "id": "ZOPfNuDvP47m"
      },
      "source": [
        "Yield is 0.04 of bond4 if the priced at 103.72"
      ]
    },
    {
      "cell_type": "markdown",
      "metadata": {
        "id": "RmFtAXhUF2t6"
      },
      "source": [
        "**Question 2: Calculate their macaculay and modified duration and convexity at 6% yield**"
      ]
    },
    {
      "cell_type": "code",
      "metadata": {
        "colab": {
          "base_uri": "https://localhost:8080/"
        },
        "id": "unXtPhkoQMDn",
        "outputId": "0cb0aeac-a9a2-42b3-f8d5-f85c7e6f4c0e"
      },
      "source": [
        "yield2 = 0.06\n",
        "\n",
        "print('bond2\\'s macaculay duration is {},modified duration is {}'.format(round((engine.calc_macaulay_duration(bond2, yield2)),8),round(engine.calc_modified_duration(bond2,yield2),8)))\n",
        "print('bond2\\'s convexity is {}'.format(round(engine.calc_convexity(bond2,yield2),8)))\n",
        "\n",
        "print('bond3\\'s macaculay duration is {},modified duration is {}'.format(round((engine.calc_macaulay_duration(bond3, yield2)),8),round(engine.calc_modified_duration(bond3,yield2),8)))\n",
        "print('bond3\\'s convexity is {}'.format(round(engine.calc_convexity(bond3,yield2),8)))\n",
        "\n",
        "print('bond4\\'s macaculay duration is {},modified duration is {}'.format(round((engine.calc_macaulay_duration(bond4,yield2)),8),round(engine.calc_modified_duration(bond4, yield2),8)))\n",
        "print('bond4\\'s convexity is {}'.format(round(engine.calc_convexity(bond4,yield2),8)))"
      ],
      "execution_count": 132,
      "outputs": [
        {
          "output_type": "stream",
          "name": "stdout",
          "text": [
            "bond2's macaculay duration is 8.02253365,modified duration is -7.56842797\n",
            "bond2's convexity is 72.56926009\n",
            "bond3's macaculay duration is 1.88983581,modified duration is -1.83479205\n",
            "bond3's convexity is 4.36769184\n",
            "bond4's macaculay duration is 4.47167861,modified duration is -4.34143554\n",
            "bond4's convexity is 22.30472804\n"
          ]
        }
      ]
    },
    {
      "cell_type": "markdown",
      "metadata": {
        "id": "AN-oJCWZF2t6"
      },
      "source": [
        "**Question 3: Calculate their new price after the yield is moved up by 1 bps**"
      ]
    },
    {
      "cell_type": "code",
      "metadata": {
        "colab": {
          "base_uri": "https://localhost:8080/"
        },
        "id": "0kwW43ck_0hn",
        "outputId": "e817e999-8cb0-48d5-fd9b-a945c894088c"
      },
      "source": [
        "# Current Price \n",
        "print('bond2\\'s current price is {}'.format(round(engine.calc_clean_price(bond2, yield2),6)))\n",
        "print('bond3\\'s current price is {}'.format(round(engine.calc_clean_price(bond3, yield2),6)))\n",
        "print('bond4\\'s current price is {}'.format(round(engine.calc_clean_price(bond4, yield2),6)))"
      ],
      "execution_count": 133,
      "outputs": [
        {
          "output_type": "stream",
          "name": "stdout",
          "text": [
            "bond2's current price is 92.639913\n",
            "bond3's current price is 103.717098\n",
            "bond4's current price is 95.734899\n"
          ]
        }
      ]
    },
    {
      "cell_type": "code",
      "metadata": {
        "colab": {
          "base_uri": "https://localhost:8080/"
        },
        "id": "VGv9OQcJSbYQ",
        "outputId": "07122db4-802a-4aa2-a5b4-461a0a5f3bae"
      },
      "source": [
        "# New Price\n",
        "new_yield = yield2 + 0.0001\n",
        "print('bond2\\'s new price is {}'.format(round(engine.calc_clean_price(bond2, new_yield),6)))\n",
        "print('bond3\\'s new price is {}'.format(round(engine.calc_clean_price(bond3, new_yield),6)))\n",
        "print('bond4\\'s new price is {}'.format(round(engine.calc_clean_price(bond4, new_yield),6)))"
      ],
      "execution_count": 134,
      "outputs": [
        {
          "output_type": "stream",
          "name": "stdout",
          "text": [
            "bond2's new price is 92.569833\n",
            "bond3's new price is 103.698071\n",
            "bond4's new price is 95.693347\n"
          ]
        }
      ]
    },
    {
      "cell_type": "markdown",
      "metadata": {
        "id": "TXQK7BpaF2t6"
      },
      "source": [
        "**Question 4: Use their modified duration to estimate what the new price would be if yield is moved up by 1 bps. Compare with your answers with those in Question 3**"
      ]
    },
    {
      "cell_type": "code",
      "metadata": {
        "id": "mYpjJ4r6VqUM"
      },
      "source": [
        "bond2_price=engine.calc_clean_price(bond2, yield2) \n",
        "bond3_price=engine.calc_clean_price(bond3, yield2) \n",
        "bond4_price=engine.calc_clean_price(bond4, yield2)"
      ],
      "execution_count": 139,
      "outputs": []
    },
    {
      "cell_type": "code",
      "metadata": {
        "colab": {
          "base_uri": "https://localhost:8080/"
        },
        "id": "mFPYOZzQS0qR",
        "outputId": "0f90acbe-7cf7-486b-86e6-1a25cae2df63"
      },
      "source": [
        "modified_duration2 = engine.calc_modified_duration(bond2,yield2)\n",
        "modified_duration3 = engine.calc_modified_duration(bond3,yield2)\n",
        "modified_duration4 = engine.calc_modified_duration(bond4,yield2)\n",
        "\n",
        "print('bond2\\'s new price by using modified duration is {}'.format(bond2_price * (1 + 0.0001 * modified_duration2)))\n",
        "print('bond3\\'s new price by using modified duration is {}'.format(bond3_price * (1 + 0.0001 * modified_duration3)))\n",
        "print('bond4\\'s new price by using modified duration is {}'.format(bond4_price * (1 + 0.0001 * modified_duration4)))\n"
      ],
      "execution_count": 141,
      "outputs": [
        {
          "output_type": "stream",
          "name": "stdout",
          "text": [
            "bond2's new price by using modified duration is 92.56979909773356\n",
            "bond3's new price by using modified duration is 103.69806847202088\n",
            "bond4's new price by using modified duration is 95.6933358924872\n"
          ]
        }
      ]
    },
    {
      "cell_type": "markdown",
      "metadata": {
        "id": "BbspedwGF2t7"
      },
      "source": [
        "**Question 5: Calculate the accrual interest for each of them if the settle date is March 10, 2021**"
      ]
    },
    {
      "cell_type": "code",
      "metadata": {
        "colab": {
          "base_uri": "https://localhost:8080/"
        },
        "id": "HFAoAdwCWT8p",
        "outputId": "1860889b-5a3b-44a4-d9a5-02dd7107ff9b"
      },
      "source": [
        "settle_date = date(2021, 3, 10)\n",
        "print(\"bond2\\'s accrual interest: \",round(engine.calc_accrual_interest(bond2, settle_date),6))\n",
        "print(\"bond3\\'s accrual interest: \",round(engine.calc_accrual_interest(bond3, settle_date),6))\n",
        "print(\"bond4\\'s accrual interest: \",round(engine.calc_accrual_interest(bond4, settle_date),6))"
      ],
      "execution_count": 142,
      "outputs": [
        {
          "output_type": "stream",
          "name": "stdout",
          "text": [
            "bond2's accrual interest:  0.009583\n",
            "bond3's accrual interest:  0.015111\n",
            "bond4's accrual interest:  0.009315\n"
          ]
        }
      ]
    },
    {
      "cell_type": "markdown",
      "metadata": {
        "id": "3jRGz-73F2t7"
      },
      "source": [
        "### Part 2: Technical Indicators"
      ]
    },
    {
      "cell_type": "code",
      "metadata": {
        "colab": {
          "base_uri": "https://localhost:8080/"
        },
        "id": "9UcvJIlSYBi2",
        "outputId": "aa8cb77c-6455-45e4-cbf5-f77b73f414c0"
      },
      "source": [
        "pip install yahoofinancials"
      ],
      "execution_count": 143,
      "outputs": [
        {
          "output_type": "stream",
          "name": "stdout",
          "text": [
            "Requirement already satisfied: yahoofinancials in /usr/local/lib/python3.7/dist-packages (1.6)\n",
            "Requirement already satisfied: beautifulsoup4 in /usr/local/lib/python3.7/dist-packages (from yahoofinancials) (4.6.3)\n",
            "Requirement already satisfied: pytz in /usr/local/lib/python3.7/dist-packages (from yahoofinancials) (2018.9)\n"
          ]
        }
      ]
    },
    {
      "cell_type": "code",
      "metadata": {
        "id": "QzwzGhIZF2t7"
      },
      "source": [
        "from TA import *\n",
        "#from TA_AP import *"
      ],
      "execution_count": 144,
      "outputs": []
    },
    {
      "cell_type": "code",
      "metadata": {
        "id": "Tcpd0AxKF2t7",
        "colab": {
          "base_uri": "https://localhost:8080/",
          "height": 238
        },
        "outputId": "44276121-8970-4a9d-9462-9c131ca38753"
      },
      "source": [
        "# We will use AAPL as an example and from 11/1/2020 to 11/1/2021\n",
        "symbol = 'AAPL'\n",
        "as_of_date = date(2021, 11, 1)\n",
        "mystock = Stock(symbol)\n",
        "end_date = as_of_date\n",
        "start_date = end_date + relativedelta(years = -2)\n",
        "mystock.get_daily_hist_price(start_date, end_date)\n",
        "ohlcv_df = mystock.ohlcv_df\n",
        "ohlcv_df.head()"
      ],
      "execution_count": 145,
      "outputs": [
        {
          "output_type": "execute_result",
          "data": {
            "text/html": [
              "<div>\n",
              "<style scoped>\n",
              "    .dataframe tbody tr th:only-of-type {\n",
              "        vertical-align: middle;\n",
              "    }\n",
              "\n",
              "    .dataframe tbody tr th {\n",
              "        vertical-align: top;\n",
              "    }\n",
              "\n",
              "    .dataframe thead th {\n",
              "        text-align: right;\n",
              "    }\n",
              "</style>\n",
              "<table border=\"1\" class=\"dataframe\">\n",
              "  <thead>\n",
              "    <tr style=\"text-align: right;\">\n",
              "      <th></th>\n",
              "      <th>date</th>\n",
              "      <th>high</th>\n",
              "      <th>low</th>\n",
              "      <th>open</th>\n",
              "      <th>close</th>\n",
              "      <th>volume</th>\n",
              "      <th>adjclose</th>\n",
              "    </tr>\n",
              "    <tr>\n",
              "      <th>formatted_date</th>\n",
              "      <th></th>\n",
              "      <th></th>\n",
              "      <th></th>\n",
              "      <th></th>\n",
              "      <th></th>\n",
              "      <th></th>\n",
              "      <th></th>\n",
              "    </tr>\n",
              "  </thead>\n",
              "  <tbody>\n",
              "    <tr>\n",
              "      <th>2019-11-01</th>\n",
              "      <td>1572615000</td>\n",
              "      <td>63.982498</td>\n",
              "      <td>62.290001</td>\n",
              "      <td>62.384998</td>\n",
              "      <td>63.955002</td>\n",
              "      <td>151125200</td>\n",
              "      <td>62.830284</td>\n",
              "    </tr>\n",
              "    <tr>\n",
              "      <th>2019-11-04</th>\n",
              "      <td>1572877800</td>\n",
              "      <td>64.462502</td>\n",
              "      <td>63.845001</td>\n",
              "      <td>64.332497</td>\n",
              "      <td>64.375000</td>\n",
              "      <td>103272000</td>\n",
              "      <td>63.242901</td>\n",
              "    </tr>\n",
              "    <tr>\n",
              "      <th>2019-11-05</th>\n",
              "      <td>1572964200</td>\n",
              "      <td>64.547501</td>\n",
              "      <td>64.080002</td>\n",
              "      <td>64.262497</td>\n",
              "      <td>64.282501</td>\n",
              "      <td>79897600</td>\n",
              "      <td>63.152016</td>\n",
              "    </tr>\n",
              "    <tr>\n",
              "      <th>2019-11-06</th>\n",
              "      <td>1573050600</td>\n",
              "      <td>64.372498</td>\n",
              "      <td>63.842499</td>\n",
              "      <td>64.192497</td>\n",
              "      <td>64.309998</td>\n",
              "      <td>75864400</td>\n",
              "      <td>63.179035</td>\n",
              "    </tr>\n",
              "    <tr>\n",
              "      <th>2019-11-07</th>\n",
              "      <td>1573137000</td>\n",
              "      <td>65.087502</td>\n",
              "      <td>64.527496</td>\n",
              "      <td>64.684998</td>\n",
              "      <td>64.857498</td>\n",
              "      <td>94940400</td>\n",
              "      <td>63.908199</td>\n",
              "    </tr>\n",
              "  </tbody>\n",
              "</table>\n",
              "</div>"
            ],
            "text/plain": [
              "                      date       high  ...     volume   adjclose\n",
              "formatted_date                         ...                      \n",
              "2019-11-01      1572615000  63.982498  ...  151125200  62.830284\n",
              "2019-11-04      1572877800  64.462502  ...  103272000  63.242901\n",
              "2019-11-05      1572964200  64.547501  ...   79897600  63.152016\n",
              "2019-11-06      1573050600  64.372498  ...   75864400  63.179035\n",
              "2019-11-07      1573137000  65.087502  ...   94940400  63.908199\n",
              "\n",
              "[5 rows x 7 columns]"
            ]
          },
          "metadata": {},
          "execution_count": 145
        }
      ]
    },
    {
      "cell_type": "markdown",
      "metadata": {
        "id": "vPoWVTA5F2t7"
      },
      "source": [
        "**First let's plot the stock Candle stick using Plotly**"
      ]
    },
    {
      "cell_type": "code",
      "metadata": {
        "id": "DSY1r0G9F2t7",
        "colab": {
          "base_uri": "https://localhost:8080/",
          "height": 542
        },
        "outputId": "673cc2fe-9369-4e2b-8283-a51cb1112814"
      },
      "source": [
        "import plotly.graph_objects as go\n",
        "\n",
        "candlestick = go.Candlestick(\n",
        "                            x=ohlcv_df.index,\n",
        "                            open=ohlcv_df['open'],\n",
        "                            high=ohlcv_df['high'],\n",
        "                            low=ohlcv_df['low'],\n",
        "                            close=ohlcv_df['close'],\n",
        "                            name = symbol\n",
        "                            )\n",
        "\n",
        "traces = []\n",
        "traces.append(candlestick)\n",
        "\n",
        "layout = {\"title\": \"{} Price\".format(symbol)}\n",
        "fig = go.Figure(data=traces, layout=layout)\n",
        "\n",
        "fig.show()"
      ],
      "execution_count": 146,
      "outputs": [
        {
          "output_type": "display_data",
          "data": {
            "text/html": [
              "<html>\n",
              "<head><meta charset=\"utf-8\" /></head>\n",
              "<body>\n",
              "    <div>\n",
              "            <script src=\"https://cdnjs.cloudflare.com/ajax/libs/mathjax/2.7.5/MathJax.js?config=TeX-AMS-MML_SVG\"></script><script type=\"text/javascript\">if (window.MathJax) {MathJax.Hub.Config({SVG: {font: \"STIX-Web\"}});}</script>\n",
              "                <script type=\"text/javascript\">window.PlotlyConfig = {MathJaxConfig: 'local'};</script>\n",
              "        <script src=\"https://cdn.plot.ly/plotly-latest.min.js\"></script>    \n",
              "            <div id=\"6ec2aa57-d372-4f60-b3dd-2ec88884486b\" class=\"plotly-graph-div\" style=\"height:525px; width:100%;\"></div>\n",
              "            <script type=\"text/javascript\">\n",
              "                \n",
              "                    window.PLOTLYENV=window.PLOTLYENV || {};\n",
              "                    \n",
              "                if (document.getElementById(\"6ec2aa57-d372-4f60-b3dd-2ec88884486b\")) {\n",
              "                    Plotly.newPlot(\n",
              "                        '6ec2aa57-d372-4f60-b3dd-2ec88884486b',\n",
              "                        [{\"close\": [63.95500183105469, 64.375, 64.28250122070312, 64.30999755859375, 64.85749816894531, 65.03500366210938, 65.55000305175781, 65.48999786376953, 66.11750030517578, 65.66000366210938, 66.44000244140625, 66.7750015258789, 66.57250213623047, 65.79750061035156, 65.50250244140625, 65.44499969482422, 66.59249877929688, 66.07250213623047, 66.95999908447266, 66.8125, 66.04000091552734, 64.86250305175781, 65.43499755859375, 66.3949966430664, 67.67749786376953, 66.7300033569336, 67.12000274658203, 67.69249725341797, 67.86499786376953, 68.7874984741211, 69.96499633789062, 70.10250091552734, 69.93499755859375, 70.00499725341797, 69.86000061035156, 71.0, 71.06749725341797, 72.47750091552734, 72.44999694824219, 72.87999725341797, 73.4124984741211, 75.0875015258789, 74.35749816894531, 74.94999694824219, 74.59750366210938, 75.79750061035156, 77.40750122070312, 77.5824966430664, 79.23999786376953, 78.16999816894531, 77.83499908447266, 78.80999755859375, 79.68250274658203, 79.14250183105469, 79.42500305175781, 79.80750274658203, 79.57749938964844, 77.23750305175781, 79.42250061035156, 81.08499908447266, 80.96749877929688, 77.37750244140625, 77.16500091552734, 79.7125015258789, 80.36250305175781, 81.30249786376953, 80.00749969482422, 80.38749694824219, 79.90249633789062, 81.80000305175781, 81.21749877929688, 81.23750305175781, 79.75, 80.90499877929688, 80.07499694824219, 78.26249694824219, 74.54499816894531, 72.0199966430664, 73.1624984741211, 68.37999725341797, 68.33999633789062, 74.70249938964844, 72.33000183105469, 75.68499755859375, 73.2300033569336, 72.25749969482422, 66.5425033569336, 71.33499908447266, 68.85749816894531, 62.057498931884766, 69.49250030517578, 60.5525016784668, 63.21500015258789, 61.66749954223633, 61.19499969482422, 57.310001373291016, 56.092498779296875, 61.720001220703125, 61.380001068115234, 64.61000061035156, 61.935001373291016, 63.70249938964844, 63.5724983215332, 60.227500915527344, 61.23249816894531, 60.352500915527344, 65.61750030517578, 64.85749816894531, 66.51750183105469, 66.99749755859375, 68.3125, 71.76249694824219, 71.10749816894531, 71.67250061035156, 70.69999694824219, 69.23249816894531, 67.09249877929688, 69.0250015258789, 68.75749969482422, 70.74250030517578, 70.7925033569336, 69.6449966430664, 71.93250274658203, 73.44999694824219, 72.26750183105469, 73.29000091552734, 74.38999938964844, 75.15750122070312, 75.93499755859375, 77.53250122070312, 78.75250244140625, 77.85250091552734, 76.9124984741211, 77.38500213623047, 76.92749786376953, 78.73999786376953, 78.28500366210938, 79.80750274658203, 79.2125015258789, 79.72250366210938, 79.18250274658203, 79.52749633789062, 79.5625, 79.48500061035156, 80.4625015258789, 80.83499908447266, 81.27999877929688, 80.58000183105469, 82.875, 83.36499786376953, 85.99749755859375, 88.20999908447266, 83.9749984741211, 84.69999694824219, 85.74749755859375, 88.0199966430664, 87.89749908447266, 87.93250274658203, 87.43000030517578, 89.71749877929688, 91.63249969482422, 90.01499938964844, 91.20999908447266, 88.40750122070312, 90.44499969482422, 91.19999694824219, 91.02749633789062, 91.02749633789062, 93.4625015258789, 93.17250061035156, 95.34249877929688, 95.75250244140625, 95.91999816894531, 95.47750091552734, 97.05750274658203, 97.7249984741211, 96.52249908447266, 96.32749938964844, 98.35749816894531, 97.0, 97.27249908447266, 92.84500122070312, 92.61499786376953, 94.80999755859375, 93.25250244140625, 95.04000091552734, 96.19000244140625, 106.26000213623047, 108.9375, 109.66500091552734, 110.0625, 113.90249633789062, 111.11250305175781, 112.72750091552734, 109.375, 113.01000213623047, 115.01000213623047, 114.90750122070312, 114.60749816894531, 115.5625, 115.7074966430664, 118.2750015258789, 124.37000274658203, 125.85749816894531, 124.82499694824219, 126.52249908447266, 125.01000213623047, 124.80750274658203, 129.0399932861328, 134.17999267578125, 131.39999389648438, 120.87999725341797, 120.95999908447266, 112.81999969482422, 117.31999969482422, 113.48999786376953, 112.0, 115.36000061035156, 115.54000091552734, 112.12999725341797, 110.33999633789062, 106.83999633789062, 110.08000183105469, 111.80999755859375, 107.12000274658203, 108.22000122070312, 112.27999877929688, 114.95999908447266, 114.08999633789062, 115.80999755859375, 116.79000091552734, 113.0199966430664, 116.5, 113.16000366210938, 115.08000183105469, 114.97000122070312, 116.97000122070312, 124.4000015258789, 121.0999984741211, 121.19000244140625, 120.70999908447266, 119.0199966430664, 115.9800033569336, 117.51000213623047, 116.87000274658203, 115.75, 115.04000091552734, 115.05000305175781, 116.5999984741211, 111.19999694824219, 115.31999969482422, 108.86000061035156, 108.7699966430664, 110.44000244140625, 114.94999694824219, 119.02999877929688, 118.69000244140625, 116.31999969482422, 115.97000122070312, 119.48999786376953, 119.20999908447266, 119.26000213623047, 120.30000305175781, 119.38999938964844, 118.02999877929688, 118.63999938964844, 117.33999633789062, 113.8499984741211, 115.16999816894531, 116.02999877929688, 116.58999633789062, 119.05000305175781, 122.72000122070312, 123.08000183105469, 122.94000244140625, 122.25, 123.75, 124.37999725341797, 121.77999877929688, 123.23999786376953, 122.41000366210938, 121.77999877929688, 127.87999725341797, 127.80999755859375, 128.6999969482422, 126.66000366210938, 128.22999572753906, 131.8800048828125, 130.9600067138672, 131.97000122070312, 136.69000244140625, 134.8699951171875, 133.72000122070312, 132.69000244140625, 129.41000366210938, 131.00999450683594, 126.5999984741211, 130.9199981689453, 132.0500030517578, 128.97999572753906, 128.8000030517578, 130.88999938964844, 128.91000366210938, 127.13999938964844, 127.83000183105469, 132.02999877929688, 136.8699951171875, 139.07000732421875, 142.9199981689453, 143.16000366210938, 142.05999755859375, 137.08999633789062, 131.9600067138672, 134.13999938964844, 134.99000549316406, 133.94000244140625, 137.38999938964844, 136.75999450683594, 136.91000366210938, 136.00999450683594, 135.38999938964844, 135.1300048828125, 135.3699951171875, 133.19000244140625, 130.83999633789062, 129.7100067138672, 129.8699951171875, 126.0, 125.86000061035156, 125.3499984741211, 120.98999786376953, 121.26000213623047, 127.79000091552734, 125.12000274658203, 122.05999755859375, 120.12999725341797, 121.41999816894531, 116.36000061035156, 121.08999633789062, 119.9800033569336, 121.95999908447266, 121.02999877929688, 123.98999786376953, 125.56999969482422, 124.76000213623047, 120.52999877929688, 119.98999786376953, 123.38999938964844, 122.54000091552734, 120.08999633789062, 120.58999633789062, 121.20999908447266, 121.38999938964844, 119.9000015258789, 122.1500015258789, 123.0, 125.9000015258789, 126.20999908447266, 127.9000015258789, 130.36000061035156, 133.0, 131.24000549316406, 134.42999267578125, 132.02999877929688, 134.5, 134.16000366210938, 134.83999633789062, 133.11000061035156, 133.5, 131.94000244140625, 134.32000732421875, 134.72000122070312, 134.38999938964844, 133.5800018310547, 133.47999572753906, 131.4600067138672, 132.5399932861328, 127.8499984741211, 128.10000610351562, 129.74000549316406, 130.2100067138672, 126.8499984741211, 125.91000366210938, 122.7699966430664, 124.97000122070312, 127.44999694824219, 126.2699966430664, 124.8499984741211, 124.69000244140625, 127.30999755859375, 125.43000030517578, 127.0999984741211, 126.9000015258789, 126.8499984741211, 125.27999877929688, 124.61000061035156, 124.27999877929688, 125.05999755859375, 123.54000091552734, 125.88999938964844, 125.9000015258789, 126.73999786376953, 127.12999725341797, 126.11000061035156, 127.3499984741211, 130.47999572753906, 129.63999938964844, 130.14999389648438, 131.7899932861328, 130.4600067138672, 132.3000030517578, 133.97999572753906, 133.6999969482422, 133.41000366210938, 133.11000061035156, 134.77999877929688, 136.3300018310547, 136.9600067138672, 137.27000427246094, 139.9600067138672, 142.02000427246094, 144.57000732421875, 143.24000549316406, 145.11000061035156, 144.5, 145.63999938964844, 149.14999389648438, 148.47999572753906, 146.38999938964844, 142.4499969482422, 146.14999389648438, 145.39999389648438, 146.8000030517578, 148.55999755859375, 148.99000549316406, 146.77000427246094, 144.97999572753906, 145.63999938964844, 145.86000061035156, 145.52000427246094, 147.36000061035156, 146.9499969482422, 147.05999755859375, 146.13999938964844, 146.08999633789062, 145.60000610351562, 145.86000061035156, 148.88999938964844, 149.10000610351562, 151.1199951171875, 150.19000244140625, 146.36000061035156, 146.6999969482422, 148.19000244140625, 149.7100067138672, 149.6199951171875, 148.36000061035156, 147.5399932861328, 148.60000610351562, 153.1199951171875, 151.8300018310547, 152.50999450683594, 153.64999389648438, 154.3000030517578, 156.69000244140625, 155.11000061035156, 154.07000732421875, 148.97000122070312, 149.5500030517578, 148.1199951171875, 149.02999877929688, 148.7899932861328, 146.05999755859375, 142.94000244140625, 143.42999267578125, 145.85000610351562, 146.8300018310547, 146.9199981689453, 145.3699951171875, 141.91000366210938, 142.8300018310547, 141.5, 142.64999389648438, 139.13999938964844, 141.11000061035156, 142.0, 143.2899932861328, 142.89999389648438, 142.80999755859375, 141.50999450683594, 140.91000366210938, 143.75999450683594, 144.83999633789062, 146.5500030517578, 148.75999450683594, 149.25999450683594, 149.47999572753906, 148.69000244140625, 148.63999938964844, 149.32000732421875, 148.85000610351562, 152.57000732421875, 149.8000030517578], \"high\": [63.98249816894531, 64.4625015258789, 64.54750061035156, 64.37249755859375, 65.0875015258789, 65.11000061035156, 65.61750030517578, 65.69750213623047, 66.19499969482422, 66.22000122070312, 66.44499969482422, 66.85749816894531, 67.0, 66.5199966430664, 66.00250244140625, 65.79499816894531, 66.61000061035156, 66.79000091552734, 66.99500274658203, 67.0, 67.0625, 64.88249969482422, 65.82749938964844, 66.47250366210938, 67.75, 67.69999694824219, 67.51750183105469, 67.7750015258789, 68.13999938964844, 68.82499694824219, 70.19750213623047, 70.44249725341797, 70.4749984741211, 70.29499816894531, 70.6624984741211, 71.0625, 71.22250366210938, 72.49500274658203, 73.49250030517578, 73.17250061035156, 73.41999816894531, 75.1500015258789, 75.1449966430664, 74.98999786376953, 75.2249984741211, 76.11000061035156, 77.60749816894531, 78.1675033569336, 79.26750183105469, 79.39250183105469, 78.875, 78.92500305175781, 79.68499755859375, 79.75499725341797, 79.99749755859375, 79.88999938964844, 80.8324966430664, 77.94249725341797, 79.5999984741211, 81.9625015258789, 81.02249908447266, 80.66999816894531, 78.37249755859375, 79.91000366210938, 81.19000244140625, 81.30500030517578, 80.8499984741211, 80.38749694824219, 80.9749984741211, 81.80500030517578, 81.55500030517578, 81.49500274658203, 79.9375, 81.14250183105469, 81.1624984741211, 80.11250305175781, 76.04499816894531, 75.63249969482422, 74.47000122070312, 71.5, 69.60250091552734, 75.36000061035156, 76.0, 75.8499984741211, 74.88749694824219, 72.70500183105469, 69.52249908447266, 71.61000061035156, 70.30500030517578, 67.5, 69.9800033569336, 64.7699966430664, 64.40249633789062, 62.5, 63.209999084472656, 62.95750045776367, 57.125, 61.92250061035156, 64.5625, 64.66999816894531, 63.967498779296875, 63.880001068115234, 65.62249755859375, 62.18000030517578, 61.287498474121094, 61.42499923706055, 65.77749633789062, 67.92500305175781, 66.84249877929688, 67.51750183105469, 68.42500305175781, 72.0625, 71.5824966430664, 72.05000305175781, 71.73750305175781, 70.41999816894531, 69.3125, 69.4749984741211, 70.4375, 70.75250244140625, 71.13500213623047, 71.4574966430664, 72.4175033569336, 73.63249969482422, 74.75, 73.42250061035156, 75.25, 75.80999755859375, 76.2925033569336, 77.5875015258789, 79.26249694824219, 79.92250061035156, 78.98750305175781, 77.44750213623047, 76.9749984741211, 79.125, 79.62999725341797, 79.87999725341797, 80.22250366210938, 79.80750274658203, 81.05999755859375, 79.67749786376953, 80.86000061035156, 80.2874984741211, 80.5875015258789, 80.86000061035156, 81.55000305175781, 81.40499877929688, 82.9375, 83.4000015258789, 86.40249633789062, 88.69249725341797, 87.76499938964844, 86.94999694824219, 86.41999816894531, 88.30000305175781, 88.8499984741211, 88.36250305175781, 89.13999938964844, 89.86499786376953, 93.09500122070312, 92.19750213623047, 91.25, 91.33000183105469, 90.5425033569336, 91.49500274658203, 91.83999633789062, 92.61750030517578, 93.94499969482422, 94.65499877929688, 95.375, 96.31749725341797, 95.9800033569336, 99.95500183105469, 97.25499725341797, 99.24749755859375, 97.40499877929688, 97.14749908447266, 98.5, 99.25, 97.9749984741211, 97.07749938964844, 92.97000122070312, 94.90499877929688, 94.55000305175781, 95.2300033569336, 96.29750061035156, 106.41500091552734, 111.63749694824219, 110.79000091552734, 110.39250183105469, 114.4124984741211, 113.67500305175781, 113.7750015258789, 112.48249816894531, 113.2750015258789, 116.0425033569336, 115.0, 116.0875015258789, 116.0, 117.1624984741211, 118.39250183105469, 124.86750030517578, 128.78500366210938, 125.18000030517578, 126.99250030517578, 127.48500061035156, 126.44249725341797, 131.0, 134.8000030517578, 137.97999572753906, 128.83999633789062, 123.69999694824219, 118.98999786376953, 119.13999938964844, 120.5, 115.2300033569336, 115.93000030517578, 118.83000183105469, 116.0, 112.19999694824219, 110.87999725341797, 110.19000244140625, 112.86000061035156, 112.11000061035156, 110.25, 112.44000244140625, 115.31999969482422, 115.30999755859375, 117.26000213623047, 117.72000122070312, 115.37000274658203, 116.6500015258789, 116.12000274658203, 115.55000305175781, 116.4000015258789, 117.0, 125.18000030517578, 125.38999938964844, 123.02999877929688, 121.19999694824219, 121.55000305175781, 120.41999816894531, 118.9800033569336, 118.70999908447266, 118.04000091552734, 116.55000305175781, 116.55000305175781, 117.27999877929688, 115.43000030517578, 116.93000030517578, 111.98999786376953, 110.68000030517578, 111.48999786376953, 115.58999633789062, 119.62000274658203, 119.19999694824219, 121.98999786376953, 117.58999633789062, 119.62999725341797, 120.52999877929688, 119.66999816894531, 120.98999786376953, 120.66999816894531, 119.81999969482422, 119.05999755859375, 118.7699966430664, 117.62000274658203, 115.8499984741211, 116.75, 117.48999786376953, 120.97000122070312, 123.47000122070312, 123.37000274658203, 123.77999877929688, 122.86000061035156, 124.56999969482422, 124.9800033569336, 125.94999694824219, 123.87000274658203, 122.76000213623047, 123.3499984741211, 127.9000015258789, 128.3699951171875, 129.5800018310547, 129.10000610351562, 128.30999755859375, 134.41000366210938, 132.42999267578125, 133.4600067138672, 137.33999633789062, 138.7899932861328, 135.99000549316406, 134.74000549316406, 133.61000061035156, 131.74000549316406, 131.0500030517578, 131.6300048828125, 132.6300048828125, 130.1699981689453, 129.69000244140625, 131.4499969482422, 131.0, 130.22000122070312, 128.7100067138672, 132.49000549316406, 139.6699981689453, 139.85000610351562, 145.08999633789062, 144.3000030517578, 144.3000030517578, 141.99000549316406, 136.74000549316406, 135.3800048828125, 136.30999755859375, 135.77000427246094, 137.39999389648438, 137.4199981689453, 136.9600067138672, 137.8800048828125, 136.99000549316406, 136.38999938964844, 135.52999877929688, 136.00999450683594, 132.22000122070312, 130.0, 130.7100067138672, 129.72000122070312, 126.70999908447266, 125.55999755859375, 126.45999908447266, 124.8499984741211, 127.93000030517578, 128.72000122070312, 125.70999908447266, 123.5999984741211, 121.94000244140625, 121.0, 122.05999755859375, 122.16999816894531, 123.20999908447266, 121.16999816894531, 124.0, 127.22000122070312, 125.86000061035156, 123.18000030517578, 121.43000030517578, 123.87000274658203, 124.23999786376953, 122.9000015258789, 121.66000366210938, 121.4800033569336, 122.58000183105469, 120.4000015258789, 123.5199966430664, 124.18000030517578, 126.16000366210938, 127.12999725341797, 127.91999816894531, 130.38999938964844, 133.0399932861328, 132.85000610351562, 134.66000366210938, 135.0, 135.0, 134.6699981689453, 135.47000122070312, 135.52999877929688, 133.75, 134.14999389648438, 135.1199951171875, 135.05999755859375, 135.41000366210938, 135.02000427246094, 137.07000732421875, 133.55999755859375, 134.07000732421875, 131.49000549316406, 130.4499969482422, 129.75, 131.25999450683594, 129.5399932861328, 126.2699966430664, 124.63999938964844, 126.1500015258789, 127.88999938964844, 126.93000030517578, 126.98999786376953, 124.91999816894531, 127.72000122070312, 128.0, 127.94000244140625, 128.32000732421875, 127.38999938964844, 127.63999938964844, 125.80000305175781, 125.3499984741211, 125.23999786376953, 124.8499984741211, 126.16000366210938, 126.31999969482422, 128.4600067138672, 127.75, 128.19000244140625, 127.44000244140625, 130.5399932861328, 130.60000610351562, 130.88999938964844, 132.5500030517578, 131.50999450683594, 132.41000366210938, 134.0800018310547, 134.32000732421875, 134.63999938964844, 133.88999938964844, 135.25, 136.49000549316406, 137.41000366210938, 137.3300018310547, 140.0, 143.14999389648438, 144.88999938964844, 144.05999755859375, 145.64999389648438, 146.32000732421875, 147.4600067138672, 149.57000732421875, 150.0, 149.75999450683594, 144.07000732421875, 147.10000610351562, 146.1300048828125, 148.1999969482422, 148.72000122070312, 149.8300018310547, 149.2100067138672, 146.97000122070312, 146.5500030517578, 146.3300018310547, 146.9499969482422, 148.0399932861328, 147.7899932861328, 147.83999633789062, 147.11000061035156, 146.6999969482422, 147.7100067138672, 146.72000122070312, 149.0500030517578, 149.44000244140625, 151.19000244140625, 151.67999267578125, 150.72000122070312, 148.0, 148.5, 150.19000244140625, 150.86000061035156, 150.32000732421875, 149.1199951171875, 148.75, 153.49000549316406, 152.8000030517578, 154.97999572753906, 154.72000122070312, 154.6300048828125, 157.25999450683594, 157.0399932861328, 156.11000061035156, 155.47999572753906, 151.4199981689453, 151.07000732421875, 149.44000244140625, 148.97000122070312, 148.82000732421875, 144.83999633789062, 144.60000610351562, 146.42999267578125, 147.0800018310547, 147.47000122070312, 145.9600067138672, 144.75, 144.4499969482422, 144.3800048828125, 142.9199981689453, 142.2100067138672, 142.24000549316406, 142.14999389648438, 144.22000122070312, 144.17999267578125, 144.80999755859375, 143.25, 141.39999389648438, 143.8800048828125, 144.89999389648438, 146.83999633789062, 149.1699981689453, 149.75, 149.63999938964844, 150.17999267578125, 149.3699951171875, 150.83999633789062, 149.72999572753906, 153.1699981689453, 149.94000244140625], \"low\": [62.290000915527344, 63.845001220703125, 64.08000183105469, 63.842498779296875, 64.52749633789062, 64.2125015258789, 64.56999969482422, 65.2300033569336, 65.26750183105469, 65.5250015258789, 65.75250244140625, 66.05750274658203, 66.34750366210938, 65.0999984741211, 65.29499816894531, 65.20999908447266, 65.62999725341797, 65.625, 66.32749938964844, 66.4749984741211, 65.86250305175781, 64.07250213623047, 65.16999816894531, 65.68250274658203, 66.82499694824219, 66.22750091552734, 66.46499633789062, 67.125, 66.83000183105469, 67.73249816894531, 69.24500274658203, 69.69999694824219, 69.77999877929688, 69.73750305175781, 69.63999938964844, 70.09249877929688, 70.7300033569336, 71.17500305175781, 72.02999877929688, 71.30500030517578, 72.37999725341797, 73.79750061035156, 74.125, 73.1875, 74.37000274658203, 74.29000091552734, 76.55000305175781, 77.0625, 77.7874984741211, 78.0425033569336, 77.38749694824219, 78.02249908447266, 78.75, 79.0, 79.32749938964844, 78.9124984741211, 79.37999725341797, 76.22000122070312, 78.04750061035156, 80.34500122070312, 79.6875, 77.07250213623047, 75.55500030517578, 78.40750122070312, 79.73750305175781, 80.06500244140625, 79.5, 78.4625015258789, 79.67749786376953, 80.36750030517578, 80.8375015258789, 80.7125015258789, 78.65249633789062, 80.0, 79.55249786376953, 77.625, 72.30750274658203, 71.53250122070312, 71.625, 68.23999786376953, 64.09249877929688, 69.43000030517578, 71.44999694824219, 73.28250122070312, 72.85250091552734, 70.30750274658203, 65.75, 67.34249877929688, 67.96499633789062, 62.0, 63.23749923706055, 60.0, 59.599998474121094, 59.279998779296875, 60.65250015258789, 57.0, 53.15250015258789, 58.57500076293945, 61.07500076293945, 61.59000015258789, 61.76250076293945, 62.349998474121094, 63.0, 59.782501220703125, 59.224998474121094, 59.74250030517578, 62.345001220703125, 64.75, 65.30750274658203, 66.17500305175781, 66.4574966430664, 69.51249694824219, 70.15750122070312, 70.5875015258789, 69.21499633789062, 69.2125015258789, 66.35749816894531, 68.05000305175781, 68.71749877929688, 69.25, 69.98750305175781, 69.55000305175781, 70.97250366210938, 72.0875015258789, 71.4625015258789, 71.58000183105469, 73.61499786376953, 74.71749877929688, 75.49250030517578, 76.07250213623047, 76.80999755859375, 77.72750091552734, 75.80249786376953, 75.38249969482422, 75.05249786376953, 77.58000183105469, 78.25250244140625, 79.12999725341797, 78.96749877929688, 78.8375015258789, 79.125, 78.27249908447266, 78.90750122070312, 79.11750030517578, 79.30249786376953, 79.73249816894531, 80.57499694824219, 80.19499969482422, 80.80750274658203, 81.83000183105469, 83.00250244140625, 86.52249908447266, 83.87000274658203, 83.55500030517578, 83.1449966430664, 86.18000030517578, 87.77249908447266, 87.30500030517578, 86.2874984741211, 87.7874984741211, 90.56749725341797, 89.62999725341797, 89.39250183105469, 88.25499725341797, 87.81999969482422, 90.0, 90.97750091552734, 90.91000366210938, 92.46749877929688, 93.05750274658203, 94.08999633789062, 94.67250061035156, 94.70500183105469, 95.25749969482422, 93.87750244140625, 96.48999786376953, 95.90499877929688, 95.83999633789062, 96.0625, 96.74250030517578, 96.60250091552734, 92.01000213623047, 89.1449966430664, 93.4800033569336, 93.24749755859375, 93.7125015258789, 93.76750183105469, 100.82499694824219, 107.89250183105469, 108.38749694824219, 108.89749908447266, 109.79750061035156, 110.2925033569336, 110.0, 109.10749816894531, 110.29750061035156, 113.92749786376953, 113.04499816894531, 113.9625015258789, 114.00749969482422, 115.61000061035156, 115.73249816894531, 119.25, 123.9375, 123.05249786376953, 125.0824966430664, 123.8324966430664, 124.57749938964844, 126.0, 130.52999877929688, 127.0, 120.5, 110.88999938964844, 112.68000030517578, 115.26000213623047, 112.5, 110.0, 112.80000305175781, 113.61000061035156, 112.04000091552734, 108.70999908447266, 106.08999633789062, 103.0999984741211, 109.16000366210938, 106.7699966430664, 105.0, 107.66999816894531, 112.77999877929688, 113.56999969482422, 113.62000274658203, 115.83000183105469, 112.22000122070312, 113.55000305175781, 112.25, 114.12999725341797, 114.58999633789062, 114.91999816894531, 119.27999877929688, 119.6500015258789, 119.62000274658203, 118.1500015258789, 118.80999755859375, 115.66000366210938, 115.62999725341797, 116.44999694824219, 114.58999633789062, 114.27999877929688, 112.87999725341797, 114.54000091552734, 111.0999984741211, 112.19999694824219, 107.72000122070312, 107.31999969482422, 108.7300033569336, 112.3499984741211, 116.87000274658203, 116.12999725341797, 116.05000305175781, 114.12999725341797, 116.44000244140625, 118.56999969482422, 117.87000274658203, 118.1500015258789, 118.95999908447266, 118.0, 116.80999755859375, 117.29000091552734, 113.75, 112.58999633789062, 115.16999816894531, 116.22000122070312, 116.80999755859375, 120.01000213623047, 120.88999938964844, 122.20999908447266, 121.5199966430664, 122.25, 123.08999633789062, 121.0, 120.1500015258789, 120.55000305175781, 121.54000091552734, 124.12999725341797, 126.55999755859375, 128.0399932861328, 126.12000274658203, 123.44999694824219, 129.64999389648438, 130.77999877929688, 131.10000610351562, 133.50999450683594, 134.33999633789062, 133.39999389648438, 131.72000122070312, 126.76000213623047, 128.42999267578125, 126.37999725341797, 127.86000061035156, 130.22999572753906, 128.5, 126.86000061035156, 128.49000549316406, 128.75999450683594, 127.0, 126.94000244140625, 128.5500030517578, 133.58999633789062, 135.02000427246094, 136.5399932861328, 141.3699951171875, 140.41000366210938, 136.6999969482422, 130.2100067138672, 130.92999267578125, 134.61000061035156, 133.61000061035156, 134.58999633789062, 135.86000061035156, 134.9199981689453, 135.85000610351562, 134.39999389648438, 133.77000427246094, 133.69000244140625, 132.7899932861328, 129.47000122070312, 127.41000366210938, 128.8000030517578, 125.5999984741211, 118.38999938964844, 122.2300033569336, 120.54000091552734, 121.19999694824219, 122.79000091552734, 125.01000213623047, 121.83999633789062, 118.62000274658203, 117.56999969482422, 116.20999908447266, 118.79000091552734, 119.44999694824219, 121.26000213623047, 119.16000366210938, 120.41999816894531, 124.72000122070312, 122.33999633789062, 120.31999969482422, 119.68000030517578, 120.26000213623047, 122.13999938964844, 120.06999969482422, 119.0, 118.91999816894531, 120.7300033569336, 118.86000061035156, 121.1500015258789, 122.48999786376953, 123.06999969482422, 125.6500015258789, 125.13999938964844, 128.52000427246094, 129.47000122070312, 130.6300048828125, 131.92999267578125, 131.66000366210938, 133.63999938964844, 133.27999877929688, 133.33999633789062, 131.80999755859375, 131.3000030517578, 131.41000366210938, 132.16000366210938, 133.55999755859375, 134.11000061035156, 133.0800018310547, 132.4499969482422, 131.07000732421875, 131.8300018310547, 126.69999694824219, 127.97000122070312, 127.12999725341797, 129.47999572753906, 126.80999755859375, 122.7699966430664, 122.25, 124.26000213623047, 125.8499984741211, 125.16999816894531, 124.77999877929688, 122.86000061035156, 125.0999984741211, 125.20999908447266, 125.94000244140625, 126.31999969482422, 126.41999816894531, 125.08000183105469, 124.55000305175781, 123.94000244140625, 124.05000305175781, 123.12999725341797, 123.8499984741211, 124.83000183105469, 126.20999908447266, 126.5199966430664, 125.94000244140625, 126.0999984741211, 127.06999969482422, 129.38999938964844, 128.4600067138672, 129.64999389648438, 130.24000549316406, 129.2100067138672, 131.6199951171875, 133.22999572753906, 132.92999267578125, 132.80999755859375, 133.35000610351562, 134.35000610351562, 135.8699951171875, 135.75999450683594, 137.75, 140.07000732421875, 142.66000366210938, 140.6699981689453, 142.64999389648438, 144.0, 143.6300048828125, 147.67999267578125, 147.08999633789062, 145.8800048828125, 141.6699981689453, 142.9600067138672, 144.6300048828125, 145.80999755859375, 146.9199981689453, 147.6999969482422, 145.5500030517578, 142.5399932861328, 144.5800018310547, 144.11000061035156, 145.25, 145.17999267578125, 146.27999877929688, 146.1699981689453, 145.6300048828125, 145.52000427246094, 145.3000030517578, 145.52999877929688, 145.83999633789062, 148.27000427246094, 146.47000122070312, 149.08999633789062, 146.14999389648438, 144.5, 146.77999877929688, 147.88999938964844, 149.14999389648438, 147.8000030517578, 147.50999450683594, 146.8300018310547, 148.61000061035156, 151.2899932861328, 152.33999633789062, 152.39999389648438, 153.08999633789062, 154.38999938964844, 153.97999572753906, 153.9499969482422, 148.6999969482422, 148.75, 146.91000366210938, 146.3699951171875, 147.22000122070312, 145.75999450683594, 141.27000427246094, 142.77999877929688, 143.6999969482422, 145.63999938964844, 145.55999755859375, 143.82000732421875, 141.69000244140625, 142.02999877929688, 141.27999877929688, 139.11000061035156, 138.27000427246094, 139.36000061035156, 138.3699951171875, 142.72000122070312, 142.55999755859375, 141.80999755859375, 141.0399932861328, 139.1999969482422, 141.50999450683594, 143.50999450683594, 143.16000366210938, 146.5500030517578, 148.1199951171875, 147.8699951171875, 148.63999938964844, 147.6199951171875, 149.00999450683594, 148.49000549316406, 149.72000122070312, 146.41000366210938], \"name\": \"AAPL\", \"open\": [62.3849983215332, 64.3324966430664, 64.26249694824219, 64.19249725341797, 64.68499755859375, 64.67250061035156, 64.57499694824219, 65.38749694824219, 65.28250122070312, 65.9375, 65.91999816894531, 66.44999694824219, 66.9749984741211, 66.38500213623047, 65.92250061035156, 65.64749908447266, 65.67749786376953, 66.73500061035156, 66.3949966430664, 66.6500015258789, 66.81749725341797, 64.57749938964844, 65.26750183105469, 65.94750213623047, 66.87000274658203, 67.5, 67.1500015258789, 67.20249938964844, 66.94499969482422, 67.86499786376953, 69.25, 69.89250183105469, 69.94999694824219, 69.875, 70.55750274658203, 70.13249969482422, 71.17250061035156, 71.20500183105469, 72.77999877929688, 72.36499786376953, 72.48249816894531, 74.05999755859375, 74.2874984741211, 73.44750213623047, 74.95999908447266, 74.29000091552734, 76.80999755859375, 77.6500015258789, 77.91000366210938, 79.17500305175781, 77.9625015258789, 78.39749908447266, 79.06749725341797, 79.29750061035156, 79.6449966430664, 79.4800033569336, 80.0625, 77.51499938964844, 78.1500015258789, 81.11250305175781, 80.13500213623047, 80.23249816894531, 76.07499694824219, 78.82749938964844, 80.87999725341797, 80.64250183105469, 80.59249877929688, 78.54499816894531, 80.9000015258789, 80.36750030517578, 81.04750061035156, 81.18499755859375, 78.83999633789062, 80.0, 80.65750122070312, 79.65499877929688, 74.31500244140625, 75.23750305175781, 71.63249969482422, 70.2750015258789, 64.31500244140625, 70.56999969482422, 75.9175033569336, 74.11000061035156, 73.87999725341797, 70.5, 65.9375, 69.28500366210938, 69.34750366210938, 63.98500061035156, 66.22250366210938, 60.48749923706055, 61.877498626708984, 59.942501068115234, 61.84749984741211, 61.79499816894531, 57.02000045776367, 59.09000015258789, 62.6875, 61.630001068115234, 63.1875, 62.685001373291016, 63.900001525878906, 61.625, 60.084999084472656, 60.70000076293945, 62.724998474121094, 67.69999694824219, 65.68499755859375, 67.17500305175781, 67.07749938964844, 70.0, 70.5999984741211, 71.84500122070312, 71.17250061035156, 69.48750305175781, 69.06999969482422, 68.40249633789062, 68.96749877929688, 69.30000305175781, 70.44999694824219, 71.2699966430664, 71.18250274658203, 72.48999786376953, 71.5625, 72.2925033569336, 73.76499938964844, 75.11499786376953, 75.80500030517578, 76.41000366210938, 77.0250015258789, 79.4574966430664, 78.0374984741211, 76.12750244140625, 75.0875015258789, 78.2925033569336, 78.75749969482422, 79.16999816894531, 79.66500091552734, 78.94249725341797, 80.875, 79.03500366210938, 79.19249725341797, 79.8125, 79.4375, 80.1875, 81.16500091552734, 81.09750366210938, 80.8375015258789, 82.5625, 83.03500366210938, 86.9749984741211, 87.32749938964844, 86.18000030517578, 83.3125, 87.86499786376953, 88.7874984741211, 87.85250091552734, 88.66000366210938, 87.83499908447266, 91.0, 91.25, 90.17500305175781, 91.10250091552734, 88.3125, 90.0199966430664, 91.27999877929688, 91.9625015258789, 92.5, 93.85250091552734, 94.18000030517578, 96.26249694824219, 95.33499908447266, 97.26499938964844, 94.83999633789062, 98.98999786376953, 96.5625, 96.98750305175781, 96.4175033569336, 99.17250061035156, 96.69249725341797, 96.99749755859375, 90.98750305175781, 93.70999908447266, 94.36750030517578, 93.75, 94.1875, 102.88500213623047, 108.19999694824219, 109.13249969482422, 109.37750244140625, 110.40499877929688, 113.20500183105469, 112.5999984741211, 111.97000122070312, 110.49749755859375, 114.43000030517578, 114.83000183105469, 116.0625, 114.35250091552734, 115.98249816894531, 115.75, 119.26249694824219, 128.69749450683594, 124.69750213623047, 126.18000030517578, 127.14250183105469, 126.01249694824219, 127.58000183105469, 132.75999450683594, 137.58999633789062, 126.91000366210938, 120.06999969482422, 113.94999694824219, 117.26000213623047, 120.36000061035156, 114.56999969482422, 114.72000122070312, 118.33000183105469, 115.2300033569336, 109.72000122070312, 110.4000015258789, 104.54000091552734, 112.68000030517578, 111.62000274658203, 105.16999816894531, 108.43000030517578, 115.01000213623047, 114.55000305175781, 113.79000091552734, 117.63999938964844, 112.88999938964844, 113.91000366210938, 115.69999694824219, 114.62000274658203, 116.25, 115.27999877929688, 120.05999755859375, 125.2699966430664, 121.0, 118.72000122070312, 121.27999877929688, 119.95999908447266, 116.19999694824219, 116.66999816894531, 117.44999694824219, 116.38999938964844, 114.01000213623047, 115.48999786376953, 115.05000305175781, 112.37000274658203, 111.05999755859375, 109.11000061035156, 109.66000366210938, 114.13999938964844, 117.94999694824219, 118.31999969482422, 120.5, 115.55000305175781, 117.19000244140625, 119.62000274658203, 119.44000244140625, 118.91999816894531, 119.55000305175781, 118.61000061035156, 117.58999633789062, 118.63999938964844, 117.18000030517578, 113.91000366210938, 115.55000305175781, 116.56999969482422, 116.97000122070312, 121.01000213623047, 122.0199966430664, 123.5199966430664, 122.5999984741211, 122.30999755859375, 124.37000274658203, 124.52999877929688, 120.5, 122.43000030517578, 122.5999984741211, 124.33999633789062, 127.41000366210938, 128.89999389648438, 128.9600067138672, 125.0199966430664, 131.61000061035156, 132.16000366210938, 131.32000732421875, 133.99000549316406, 138.0500030517578, 135.5800018310547, 134.0800018310547, 133.52000427246094, 128.88999938964844, 127.72000122070312, 128.36000061035156, 132.42999267578125, 129.19000244140625, 128.5, 128.75999450683594, 130.8000030517578, 128.77999877929688, 127.77999877929688, 128.66000366210938, 133.8000030517578, 136.27999877929688, 143.07000732421875, 143.60000610351562, 143.42999267578125, 139.52000427246094, 135.8300018310547, 133.75, 135.72999572753906, 135.75999450683594, 136.3000030517578, 137.35000610351562, 136.02999877929688, 136.6199951171875, 136.47999572753906, 135.89999389648438, 134.35000610351562, 135.49000549316406, 131.25, 129.1999969482422, 130.24000549316406, 128.00999450683594, 123.76000213623047, 124.94000244140625, 124.68000030517578, 122.58999633789062, 123.75, 128.41000366210938, 124.80999755859375, 121.75, 120.9800033569336, 120.93000030517578, 119.02999877929688, 121.69000244140625, 122.54000091552734, 120.4000015258789, 121.41000366210938, 125.69999694824219, 124.05000305175781, 122.87999725341797, 119.9000015258789, 120.33000183105469, 123.33000183105469, 122.81999969482422, 119.54000091552734, 120.3499984741211, 121.6500015258789, 120.11000061035156, 121.6500015258789, 123.66000366210938, 123.87000274658203, 126.5, 125.83000183105469, 128.9499969482422, 129.8000030517578, 132.52000427246094, 132.44000244140625, 134.94000244140625, 133.82000732421875, 134.3000030517578, 133.50999450683594, 135.02000427246094, 132.36000061035156, 133.0399932861328, 132.16000366210938, 134.8300018310547, 135.00999450683594, 134.30999755859375, 136.47000122070312, 131.77999877929688, 132.0399932861328, 131.19000244140625, 129.1999969482422, 127.88999938964844, 130.85000610351562, 129.41000366210938, 123.5, 123.4000015258789, 124.58000183105469, 126.25, 126.81999969482422, 126.55999755859375, 123.16000366210938, 125.2300033569336, 127.81999969482422, 126.01000213623047, 127.81999969482422, 126.95999908447266, 126.44000244140625, 125.56999969482422, 125.08000183105469, 124.27999877929688, 124.68000030517578, 124.06999969482422, 126.16999816894531, 126.5999984741211, 127.20999908447266, 127.0199966430664, 126.52999877929688, 127.81999969482422, 129.94000244140625, 130.3699951171875, 129.8000030517578, 130.7100067138672, 130.3000030517578, 132.1300048828125, 133.77000427246094, 134.4499969482422, 133.4600067138672, 133.41000366210938, 134.8000030517578, 136.1699981689453, 136.60000610351562, 137.89999389648438, 140.07000732421875, 143.5399932861328, 141.5800018310547, 142.75, 146.2100067138672, 144.02999877929688, 148.10000610351562, 149.24000549316406, 148.4600067138672, 143.75, 143.4600067138672, 145.52999877929688, 145.94000244140625, 147.5500030517578, 148.27000427246094, 149.1199951171875, 144.80999755859375, 144.69000244140625, 144.3800048828125, 146.36000061035156, 145.80999755859375, 147.27000427246094, 146.97999572753906, 146.35000610351562, 146.1999969482422, 146.44000244140625, 146.0500030517578, 146.19000244140625, 148.97000122070312, 148.5399932861328, 150.22999572753906, 149.8000030517578, 145.02999877929688, 147.44000244140625, 148.30999755859375, 149.4499969482422, 149.80999755859375, 148.35000610351562, 147.47999572753906, 149.0, 152.66000366210938, 152.8300018310547, 153.8699951171875, 153.75999450683594, 154.97000122070312, 156.97999572753906, 155.49000549316406, 155.0, 150.6300048828125, 150.35000610351562, 148.55999755859375, 148.44000244140625, 148.82000732421875, 143.8000030517578, 143.92999267578125, 144.4499969482422, 146.64999389648438, 145.66000366210938, 145.47000122070312, 143.25, 142.47000122070312, 143.66000366210938, 141.89999389648438, 141.75999450683594, 139.49000549316406, 139.47000122070312, 143.05999755859375, 144.02999877929688, 142.27000427246094, 143.22999572753906, 141.24000549316406, 142.11000061035156, 143.77000427246094, 143.4499969482422, 147.00999450683594, 148.6999969482422, 148.80999755859375, 149.69000244140625, 148.67999267578125, 149.3300018310547, 149.36000061035156, 149.82000732421875, 147.22000122070312], \"type\": \"candlestick\", \"x\": [\"2019-11-01\", \"2019-11-04\", \"2019-11-05\", \"2019-11-06\", \"2019-11-07\", \"2019-11-08\", \"2019-11-11\", \"2019-11-12\", \"2019-11-13\", \"2019-11-14\", \"2019-11-15\", \"2019-11-18\", \"2019-11-19\", \"2019-11-20\", \"2019-11-21\", \"2019-11-22\", \"2019-11-25\", \"2019-11-26\", \"2019-11-27\", \"2019-11-29\", \"2019-12-02\", \"2019-12-03\", \"2019-12-04\", \"2019-12-05\", \"2019-12-06\", \"2019-12-09\", \"2019-12-10\", \"2019-12-11\", \"2019-12-12\", \"2019-12-13\", \"2019-12-16\", \"2019-12-17\", \"2019-12-18\", \"2019-12-19\", \"2019-12-20\", \"2019-12-23\", \"2019-12-24\", \"2019-12-26\", \"2019-12-27\", \"2019-12-30\", \"2019-12-31\", \"2020-01-02\", \"2020-01-03\", \"2020-01-06\", \"2020-01-07\", \"2020-01-08\", \"2020-01-09\", \"2020-01-10\", \"2020-01-13\", \"2020-01-14\", \"2020-01-15\", \"2020-01-16\", \"2020-01-17\", \"2020-01-21\", \"2020-01-22\", \"2020-01-23\", \"2020-01-24\", \"2020-01-27\", \"2020-01-28\", \"2020-01-29\", \"2020-01-30\", \"2020-01-31\", \"2020-02-03\", \"2020-02-04\", \"2020-02-05\", \"2020-02-06\", \"2020-02-07\", \"2020-02-10\", \"2020-02-11\", \"2020-02-12\", \"2020-02-13\", \"2020-02-14\", \"2020-02-18\", \"2020-02-19\", \"2020-02-20\", \"2020-02-21\", \"2020-02-24\", \"2020-02-25\", \"2020-02-26\", \"2020-02-27\", \"2020-02-28\", \"2020-03-02\", \"2020-03-03\", \"2020-03-04\", \"2020-03-05\", \"2020-03-06\", \"2020-03-09\", \"2020-03-10\", \"2020-03-11\", \"2020-03-12\", \"2020-03-13\", \"2020-03-16\", \"2020-03-17\", \"2020-03-18\", \"2020-03-19\", \"2020-03-20\", \"2020-03-23\", \"2020-03-24\", \"2020-03-25\", \"2020-03-26\", \"2020-03-27\", \"2020-03-30\", \"2020-03-31\", \"2020-04-01\", \"2020-04-02\", \"2020-04-03\", \"2020-04-06\", \"2020-04-07\", \"2020-04-08\", \"2020-04-09\", \"2020-04-13\", \"2020-04-14\", \"2020-04-15\", \"2020-04-16\", \"2020-04-17\", \"2020-04-20\", \"2020-04-21\", \"2020-04-22\", \"2020-04-23\", \"2020-04-24\", \"2020-04-27\", \"2020-04-28\", \"2020-04-29\", \"2020-04-30\", \"2020-05-01\", \"2020-05-04\", \"2020-05-05\", \"2020-05-06\", \"2020-05-07\", \"2020-05-08\", \"2020-05-11\", \"2020-05-12\", \"2020-05-13\", \"2020-05-14\", \"2020-05-15\", \"2020-05-18\", \"2020-05-19\", \"2020-05-20\", \"2020-05-21\", \"2020-05-22\", \"2020-05-26\", \"2020-05-27\", \"2020-05-28\", \"2020-05-29\", \"2020-06-01\", \"2020-06-02\", \"2020-06-03\", \"2020-06-04\", \"2020-06-05\", \"2020-06-08\", \"2020-06-09\", \"2020-06-10\", \"2020-06-11\", \"2020-06-12\", \"2020-06-15\", \"2020-06-16\", \"2020-06-17\", \"2020-06-18\", \"2020-06-19\", \"2020-06-22\", \"2020-06-23\", \"2020-06-24\", \"2020-06-25\", \"2020-06-26\", \"2020-06-29\", \"2020-06-30\", \"2020-07-01\", \"2020-07-02\", \"2020-07-06\", \"2020-07-07\", \"2020-07-08\", \"2020-07-09\", \"2020-07-10\", \"2020-07-13\", \"2020-07-14\", \"2020-07-15\", \"2020-07-16\", \"2020-07-17\", \"2020-07-20\", \"2020-07-21\", \"2020-07-22\", \"2020-07-23\", \"2020-07-24\", \"2020-07-27\", \"2020-07-28\", \"2020-07-29\", \"2020-07-30\", \"2020-07-31\", \"2020-08-03\", \"2020-08-04\", \"2020-08-05\", \"2020-08-06\", \"2020-08-07\", \"2020-08-10\", \"2020-08-11\", \"2020-08-12\", \"2020-08-13\", \"2020-08-14\", \"2020-08-17\", \"2020-08-18\", \"2020-08-19\", \"2020-08-20\", \"2020-08-21\", \"2020-08-24\", \"2020-08-25\", \"2020-08-26\", \"2020-08-27\", \"2020-08-28\", \"2020-08-31\", \"2020-09-01\", \"2020-09-02\", \"2020-09-03\", \"2020-09-04\", \"2020-09-08\", \"2020-09-09\", \"2020-09-10\", \"2020-09-11\", \"2020-09-14\", \"2020-09-15\", \"2020-09-16\", \"2020-09-17\", \"2020-09-18\", \"2020-09-21\", \"2020-09-22\", \"2020-09-23\", \"2020-09-24\", \"2020-09-25\", \"2020-09-28\", \"2020-09-29\", \"2020-09-30\", \"2020-10-01\", \"2020-10-02\", \"2020-10-05\", \"2020-10-06\", \"2020-10-07\", \"2020-10-08\", \"2020-10-09\", \"2020-10-12\", \"2020-10-13\", \"2020-10-14\", \"2020-10-15\", \"2020-10-16\", \"2020-10-19\", \"2020-10-20\", \"2020-10-21\", \"2020-10-22\", \"2020-10-23\", \"2020-10-26\", \"2020-10-27\", \"2020-10-28\", \"2020-10-29\", \"2020-10-30\", \"2020-11-02\", \"2020-11-03\", \"2020-11-04\", \"2020-11-05\", \"2020-11-06\", \"2020-11-09\", \"2020-11-10\", \"2020-11-11\", \"2020-11-12\", \"2020-11-13\", \"2020-11-16\", \"2020-11-17\", \"2020-11-18\", \"2020-11-19\", \"2020-11-20\", \"2020-11-23\", \"2020-11-24\", \"2020-11-25\", \"2020-11-27\", \"2020-11-30\", \"2020-12-01\", \"2020-12-02\", \"2020-12-03\", \"2020-12-04\", \"2020-12-07\", \"2020-12-08\", \"2020-12-09\", \"2020-12-10\", \"2020-12-11\", \"2020-12-14\", \"2020-12-15\", \"2020-12-16\", \"2020-12-17\", \"2020-12-18\", \"2020-12-21\", \"2020-12-22\", \"2020-12-23\", \"2020-12-24\", \"2020-12-28\", \"2020-12-29\", \"2020-12-30\", \"2020-12-31\", \"2021-01-04\", \"2021-01-05\", \"2021-01-06\", \"2021-01-07\", \"2021-01-08\", \"2021-01-11\", \"2021-01-12\", \"2021-01-13\", \"2021-01-14\", \"2021-01-15\", \"2021-01-19\", \"2021-01-20\", \"2021-01-21\", \"2021-01-22\", \"2021-01-25\", \"2021-01-26\", \"2021-01-27\", \"2021-01-28\", \"2021-01-29\", \"2021-02-01\", \"2021-02-02\", \"2021-02-03\", \"2021-02-04\", \"2021-02-05\", \"2021-02-08\", \"2021-02-09\", \"2021-02-10\", \"2021-02-11\", \"2021-02-12\", \"2021-02-16\", \"2021-02-17\", \"2021-02-18\", \"2021-02-19\", \"2021-02-22\", \"2021-02-23\", \"2021-02-24\", \"2021-02-25\", \"2021-02-26\", \"2021-03-01\", \"2021-03-02\", \"2021-03-03\", \"2021-03-04\", \"2021-03-05\", \"2021-03-08\", \"2021-03-09\", \"2021-03-10\", \"2021-03-11\", \"2021-03-12\", \"2021-03-15\", \"2021-03-16\", \"2021-03-17\", \"2021-03-18\", \"2021-03-19\", \"2021-03-22\", \"2021-03-23\", \"2021-03-24\", \"2021-03-25\", \"2021-03-26\", \"2021-03-29\", \"2021-03-30\", \"2021-03-31\", \"2021-04-01\", \"2021-04-05\", \"2021-04-06\", \"2021-04-07\", \"2021-04-08\", \"2021-04-09\", \"2021-04-12\", \"2021-04-13\", \"2021-04-14\", \"2021-04-15\", \"2021-04-16\", \"2021-04-19\", \"2021-04-20\", \"2021-04-21\", \"2021-04-22\", \"2021-04-23\", \"2021-04-26\", \"2021-04-27\", \"2021-04-28\", \"2021-04-29\", \"2021-04-30\", \"2021-05-03\", \"2021-05-04\", \"2021-05-05\", \"2021-05-06\", \"2021-05-07\", \"2021-05-10\", \"2021-05-11\", \"2021-05-12\", \"2021-05-13\", \"2021-05-14\", \"2021-05-17\", \"2021-05-18\", \"2021-05-19\", \"2021-05-20\", \"2021-05-21\", \"2021-05-24\", \"2021-05-25\", \"2021-05-26\", \"2021-05-27\", \"2021-05-28\", \"2021-06-01\", \"2021-06-02\", \"2021-06-03\", \"2021-06-04\", \"2021-06-07\", \"2021-06-08\", \"2021-06-09\", \"2021-06-10\", \"2021-06-11\", \"2021-06-14\", \"2021-06-15\", \"2021-06-16\", \"2021-06-17\", \"2021-06-18\", \"2021-06-21\", \"2021-06-22\", \"2021-06-23\", \"2021-06-24\", \"2021-06-25\", \"2021-06-28\", \"2021-06-29\", \"2021-06-30\", \"2021-07-01\", \"2021-07-02\", \"2021-07-06\", \"2021-07-07\", \"2021-07-08\", \"2021-07-09\", \"2021-07-12\", \"2021-07-13\", \"2021-07-14\", \"2021-07-15\", \"2021-07-16\", \"2021-07-19\", \"2021-07-20\", \"2021-07-21\", \"2021-07-22\", \"2021-07-23\", \"2021-07-26\", \"2021-07-27\", \"2021-07-28\", \"2021-07-29\", \"2021-07-30\", \"2021-08-02\", \"2021-08-03\", \"2021-08-04\", \"2021-08-05\", \"2021-08-06\", \"2021-08-09\", \"2021-08-10\", \"2021-08-11\", \"2021-08-12\", \"2021-08-13\", \"2021-08-16\", \"2021-08-17\", \"2021-08-18\", \"2021-08-19\", \"2021-08-20\", \"2021-08-23\", \"2021-08-24\", \"2021-08-25\", \"2021-08-26\", \"2021-08-27\", \"2021-08-30\", \"2021-08-31\", \"2021-09-01\", \"2021-09-02\", \"2021-09-03\", \"2021-09-07\", \"2021-09-08\", \"2021-09-09\", \"2021-09-10\", \"2021-09-13\", \"2021-09-14\", \"2021-09-15\", \"2021-09-16\", \"2021-09-17\", \"2021-09-20\", \"2021-09-21\", \"2021-09-22\", \"2021-09-23\", \"2021-09-24\", \"2021-09-27\", \"2021-09-28\", \"2021-09-29\", \"2021-09-30\", \"2021-10-01\", \"2021-10-04\", \"2021-10-05\", \"2021-10-06\", \"2021-10-07\", \"2021-10-08\", \"2021-10-11\", \"2021-10-12\", \"2021-10-13\", \"2021-10-14\", \"2021-10-15\", \"2021-10-18\", \"2021-10-19\", \"2021-10-20\", \"2021-10-21\", \"2021-10-22\", \"2021-10-25\", \"2021-10-26\", \"2021-10-27\", \"2021-10-28\", \"2021-10-29\"]}],\n",
              "                        {\"template\": {\"data\": {\"bar\": [{\"error_x\": {\"color\": \"#2a3f5f\"}, \"error_y\": {\"color\": \"#2a3f5f\"}, \"marker\": {\"line\": {\"color\": \"#E5ECF6\", \"width\": 0.5}}, \"type\": \"bar\"}], \"barpolar\": [{\"marker\": {\"line\": {\"color\": \"#E5ECF6\", \"width\": 0.5}}, \"type\": \"barpolar\"}], \"carpet\": [{\"aaxis\": {\"endlinecolor\": \"#2a3f5f\", \"gridcolor\": \"white\", \"linecolor\": \"white\", \"minorgridcolor\": \"white\", \"startlinecolor\": \"#2a3f5f\"}, \"baxis\": {\"endlinecolor\": \"#2a3f5f\", \"gridcolor\": \"white\", \"linecolor\": \"white\", \"minorgridcolor\": \"white\", \"startlinecolor\": \"#2a3f5f\"}, \"type\": \"carpet\"}], \"choropleth\": [{\"colorbar\": {\"outlinewidth\": 0, \"ticks\": \"\"}, \"type\": \"choropleth\"}], \"contour\": [{\"colorbar\": {\"outlinewidth\": 0, \"ticks\": \"\"}, \"colorscale\": [[0.0, \"#0d0887\"], [0.1111111111111111, \"#46039f\"], [0.2222222222222222, \"#7201a8\"], [0.3333333333333333, \"#9c179e\"], [0.4444444444444444, \"#bd3786\"], [0.5555555555555556, \"#d8576b\"], [0.6666666666666666, \"#ed7953\"], [0.7777777777777778, \"#fb9f3a\"], [0.8888888888888888, \"#fdca26\"], [1.0, \"#f0f921\"]], \"type\": \"contour\"}], \"contourcarpet\": [{\"colorbar\": {\"outlinewidth\": 0, \"ticks\": \"\"}, \"type\": \"contourcarpet\"}], \"heatmap\": [{\"colorbar\": {\"outlinewidth\": 0, \"ticks\": \"\"}, \"colorscale\": [[0.0, \"#0d0887\"], [0.1111111111111111, \"#46039f\"], [0.2222222222222222, \"#7201a8\"], [0.3333333333333333, \"#9c179e\"], [0.4444444444444444, \"#bd3786\"], [0.5555555555555556, \"#d8576b\"], [0.6666666666666666, \"#ed7953\"], [0.7777777777777778, \"#fb9f3a\"], [0.8888888888888888, \"#fdca26\"], [1.0, \"#f0f921\"]], \"type\": \"heatmap\"}], \"heatmapgl\": [{\"colorbar\": {\"outlinewidth\": 0, \"ticks\": \"\"}, \"colorscale\": [[0.0, \"#0d0887\"], [0.1111111111111111, \"#46039f\"], [0.2222222222222222, \"#7201a8\"], [0.3333333333333333, \"#9c179e\"], [0.4444444444444444, \"#bd3786\"], [0.5555555555555556, \"#d8576b\"], [0.6666666666666666, \"#ed7953\"], [0.7777777777777778, \"#fb9f3a\"], [0.8888888888888888, \"#fdca26\"], [1.0, \"#f0f921\"]], \"type\": \"heatmapgl\"}], \"histogram\": [{\"marker\": {\"colorbar\": {\"outlinewidth\": 0, \"ticks\": \"\"}}, \"type\": \"histogram\"}], \"histogram2d\": [{\"colorbar\": {\"outlinewidth\": 0, \"ticks\": \"\"}, \"colorscale\": [[0.0, \"#0d0887\"], [0.1111111111111111, \"#46039f\"], [0.2222222222222222, \"#7201a8\"], [0.3333333333333333, \"#9c179e\"], [0.4444444444444444, \"#bd3786\"], [0.5555555555555556, \"#d8576b\"], [0.6666666666666666, \"#ed7953\"], [0.7777777777777778, \"#fb9f3a\"], [0.8888888888888888, \"#fdca26\"], [1.0, \"#f0f921\"]], \"type\": \"histogram2d\"}], \"histogram2dcontour\": [{\"colorbar\": {\"outlinewidth\": 0, \"ticks\": \"\"}, \"colorscale\": [[0.0, \"#0d0887\"], [0.1111111111111111, \"#46039f\"], [0.2222222222222222, \"#7201a8\"], [0.3333333333333333, \"#9c179e\"], [0.4444444444444444, \"#bd3786\"], [0.5555555555555556, \"#d8576b\"], [0.6666666666666666, \"#ed7953\"], [0.7777777777777778, \"#fb9f3a\"], [0.8888888888888888, \"#fdca26\"], [1.0, \"#f0f921\"]], \"type\": \"histogram2dcontour\"}], \"mesh3d\": [{\"colorbar\": {\"outlinewidth\": 0, \"ticks\": \"\"}, \"type\": \"mesh3d\"}], \"parcoords\": [{\"line\": {\"colorbar\": {\"outlinewidth\": 0, \"ticks\": \"\"}}, \"type\": \"parcoords\"}], \"pie\": [{\"automargin\": true, \"type\": \"pie\"}], \"scatter\": [{\"marker\": {\"colorbar\": {\"outlinewidth\": 0, \"ticks\": \"\"}}, \"type\": \"scatter\"}], \"scatter3d\": [{\"line\": {\"colorbar\": {\"outlinewidth\": 0, \"ticks\": \"\"}}, \"marker\": {\"colorbar\": {\"outlinewidth\": 0, \"ticks\": \"\"}}, \"type\": \"scatter3d\"}], \"scattercarpet\": [{\"marker\": {\"colorbar\": {\"outlinewidth\": 0, \"ticks\": \"\"}}, \"type\": \"scattercarpet\"}], \"scattergeo\": [{\"marker\": {\"colorbar\": {\"outlinewidth\": 0, \"ticks\": \"\"}}, \"type\": \"scattergeo\"}], \"scattergl\": [{\"marker\": {\"colorbar\": {\"outlinewidth\": 0, \"ticks\": \"\"}}, \"type\": \"scattergl\"}], \"scattermapbox\": [{\"marker\": {\"colorbar\": {\"outlinewidth\": 0, \"ticks\": \"\"}}, \"type\": \"scattermapbox\"}], \"scatterpolar\": [{\"marker\": {\"colorbar\": {\"outlinewidth\": 0, \"ticks\": \"\"}}, \"type\": \"scatterpolar\"}], \"scatterpolargl\": [{\"marker\": {\"colorbar\": {\"outlinewidth\": 0, \"ticks\": \"\"}}, \"type\": \"scatterpolargl\"}], \"scatterternary\": [{\"marker\": {\"colorbar\": {\"outlinewidth\": 0, \"ticks\": \"\"}}, \"type\": \"scatterternary\"}], \"surface\": [{\"colorbar\": {\"outlinewidth\": 0, \"ticks\": \"\"}, \"colorscale\": [[0.0, \"#0d0887\"], [0.1111111111111111, \"#46039f\"], [0.2222222222222222, \"#7201a8\"], [0.3333333333333333, \"#9c179e\"], [0.4444444444444444, \"#bd3786\"], [0.5555555555555556, \"#d8576b\"], [0.6666666666666666, \"#ed7953\"], [0.7777777777777778, \"#fb9f3a\"], [0.8888888888888888, \"#fdca26\"], [1.0, \"#f0f921\"]], \"type\": \"surface\"}], \"table\": [{\"cells\": {\"fill\": {\"color\": \"#EBF0F8\"}, \"line\": {\"color\": \"white\"}}, \"header\": {\"fill\": {\"color\": \"#C8D4E3\"}, \"line\": {\"color\": \"white\"}}, \"type\": \"table\"}]}, \"layout\": {\"annotationdefaults\": {\"arrowcolor\": \"#2a3f5f\", \"arrowhead\": 0, \"arrowwidth\": 1}, \"coloraxis\": {\"colorbar\": {\"outlinewidth\": 0, \"ticks\": \"\"}}, \"colorscale\": {\"diverging\": [[0, \"#8e0152\"], [0.1, \"#c51b7d\"], [0.2, \"#de77ae\"], [0.3, \"#f1b6da\"], [0.4, \"#fde0ef\"], [0.5, \"#f7f7f7\"], [0.6, \"#e6f5d0\"], [0.7, \"#b8e186\"], [0.8, \"#7fbc41\"], [0.9, \"#4d9221\"], [1, \"#276419\"]], \"sequential\": [[0.0, \"#0d0887\"], [0.1111111111111111, \"#46039f\"], [0.2222222222222222, \"#7201a8\"], [0.3333333333333333, \"#9c179e\"], [0.4444444444444444, \"#bd3786\"], [0.5555555555555556, \"#d8576b\"], [0.6666666666666666, \"#ed7953\"], [0.7777777777777778, \"#fb9f3a\"], [0.8888888888888888, \"#fdca26\"], [1.0, \"#f0f921\"]], \"sequentialminus\": [[0.0, \"#0d0887\"], [0.1111111111111111, \"#46039f\"], [0.2222222222222222, \"#7201a8\"], [0.3333333333333333, \"#9c179e\"], [0.4444444444444444, \"#bd3786\"], [0.5555555555555556, \"#d8576b\"], [0.6666666666666666, \"#ed7953\"], [0.7777777777777778, \"#fb9f3a\"], [0.8888888888888888, \"#fdca26\"], [1.0, \"#f0f921\"]]}, \"colorway\": [\"#636efa\", \"#EF553B\", \"#00cc96\", \"#ab63fa\", \"#FFA15A\", \"#19d3f3\", \"#FF6692\", \"#B6E880\", \"#FF97FF\", \"#FECB52\"], \"font\": {\"color\": \"#2a3f5f\"}, \"geo\": {\"bgcolor\": \"white\", \"lakecolor\": \"white\", \"landcolor\": \"#E5ECF6\", \"showlakes\": true, \"showland\": true, \"subunitcolor\": \"white\"}, \"hoverlabel\": {\"align\": \"left\"}, \"hovermode\": \"closest\", \"mapbox\": {\"style\": \"light\"}, \"paper_bgcolor\": \"white\", \"plot_bgcolor\": \"#E5ECF6\", \"polar\": {\"angularaxis\": {\"gridcolor\": \"white\", \"linecolor\": \"white\", \"ticks\": \"\"}, \"bgcolor\": \"#E5ECF6\", \"radialaxis\": {\"gridcolor\": \"white\", \"linecolor\": \"white\", \"ticks\": \"\"}}, \"scene\": {\"xaxis\": {\"backgroundcolor\": \"#E5ECF6\", \"gridcolor\": \"white\", \"gridwidth\": 2, \"linecolor\": \"white\", \"showbackground\": true, \"ticks\": \"\", \"zerolinecolor\": \"white\"}, \"yaxis\": {\"backgroundcolor\": \"#E5ECF6\", \"gridcolor\": \"white\", \"gridwidth\": 2, \"linecolor\": \"white\", \"showbackground\": true, \"ticks\": \"\", \"zerolinecolor\": \"white\"}, \"zaxis\": {\"backgroundcolor\": \"#E5ECF6\", \"gridcolor\": \"white\", \"gridwidth\": 2, \"linecolor\": \"white\", \"showbackground\": true, \"ticks\": \"\", \"zerolinecolor\": \"white\"}}, \"shapedefaults\": {\"line\": {\"color\": \"#2a3f5f\"}}, \"ternary\": {\"aaxis\": {\"gridcolor\": \"white\", \"linecolor\": \"white\", \"ticks\": \"\"}, \"baxis\": {\"gridcolor\": \"white\", \"linecolor\": \"white\", \"ticks\": \"\"}, \"bgcolor\": \"#E5ECF6\", \"caxis\": {\"gridcolor\": \"white\", \"linecolor\": \"white\", \"ticks\": \"\"}}, \"title\": {\"x\": 0.05}, \"xaxis\": {\"automargin\": true, \"gridcolor\": \"white\", \"linecolor\": \"white\", \"ticks\": \"\", \"title\": {\"standoff\": 15}, \"zerolinecolor\": \"white\", \"zerolinewidth\": 2}, \"yaxis\": {\"automargin\": true, \"gridcolor\": \"white\", \"linecolor\": \"white\", \"ticks\": \"\", \"title\": {\"standoff\": 15}, \"zerolinecolor\": \"white\", \"zerolinewidth\": 2}}}, \"title\": {\"text\": \"AAPL Price\"}},\n",
              "                        {\"responsive\": true}\n",
              "                    ).then(function(){\n",
              "                            \n",
              "var gd = document.getElementById('6ec2aa57-d372-4f60-b3dd-2ec88884486b');\n",
              "var x = new MutationObserver(function (mutations, observer) {{\n",
              "        var display = window.getComputedStyle(gd).display;\n",
              "        if (!display || display === 'none') {{\n",
              "            console.log([gd, 'removed!']);\n",
              "            Plotly.purge(gd);\n",
              "            observer.disconnect();\n",
              "        }}\n",
              "}});\n",
              "\n",
              "// Listen for the removal of the full notebook cells\n",
              "var notebookContainer = gd.closest('#notebook-container');\n",
              "if (notebookContainer) {{\n",
              "    x.observe(notebookContainer, {childList: true});\n",
              "}}\n",
              "\n",
              "// Listen for the clearing of the current output cell\n",
              "var outputEl = gd.closest('.output');\n",
              "if (outputEl) {{\n",
              "    x.observe(outputEl, {childList: true});\n",
              "}}\n",
              "\n",
              "                        })\n",
              "                };\n",
              "                \n",
              "            </script>\n",
              "        </div>\n",
              "</body>\n",
              "</html>"
            ]
          },
          "metadata": {}
        }
      ]
    },
    {
      "cell_type": "code",
      "metadata": {
        "id": "X0DbQhQSF2t8"
      },
      "source": [
        "# we will create a SMA object and call its run method\n",
        "periods = [9, 20, 50, 100, 200]\n",
        "smas = SimpleMovingAverages(ohlcv_df, periods)\n",
        "smas.run()"
      ],
      "execution_count": 147,
      "outputs": []
    },
    {
      "cell_type": "code",
      "metadata": {
        "id": "uobWl5gXF2t8",
        "colab": {
          "base_uri": "https://localhost:8080/"
        },
        "outputId": "33a26191-ae43-4b3d-f0a9-c40e68f49eff"
      },
      "source": [
        "smas.get_series(9)"
      ],
      "execution_count": 148,
      "outputs": [
        {
          "output_type": "execute_result",
          "data": {
            "text/plain": [
              "formatted_date\n",
              "2019-11-01     63.955002\n",
              "2019-11-04     64.165001\n",
              "2019-11-05     64.204168\n",
              "2019-11-06     64.230625\n",
              "2019-11-07     64.356000\n",
              "                 ...    \n",
              "2021-10-25    146.765554\n",
              "2021-10-26    147.699999\n",
              "2021-10-27    148.265555\n",
              "2021-10-28    149.124446\n",
              "2021-10-29    149.485557\n",
              "Name: close, Length: 503, dtype: float64"
            ]
          },
          "metadata": {},
          "execution_count": 148
        }
      ]
    },
    {
      "cell_type": "markdown",
      "metadata": {
        "id": "-k62QtSSF2t8"
      },
      "source": [
        "**Question 6: Plot 20, 50, 200 Simple Moving Averages and 10 EMA along with the candlesticks**"
      ]
    },
    {
      "cell_type": "markdown",
      "metadata": {
        "id": "lbTvyj_8F2t8"
      },
      "source": [
        "***Type your code and answers here***"
      ]
    },
    {
      "cell_type": "markdown",
      "metadata": {
        "id": "Xt2Vdo0GF2t8"
      },
      "source": [
        "**Question 7: Plot the corresponding RSI**"
      ]
    },
    {
      "cell_type": "markdown",
      "metadata": {
        "id": "GJUKj8m1F2t8"
      },
      "source": [
        "***Type your code and answers here***"
      ]
    },
    {
      "cell_type": "markdown",
      "metadata": {
        "id": "RNs4BLAyF2t8"
      },
      "source": [
        "**Question 8: Plot the VWAP along with 20, 50 SMA and the candlesticks**"
      ]
    },
    {
      "cell_type": "markdown",
      "metadata": {
        "id": "017YD1llF2t8"
      },
      "source": [
        "***Type your code and answers here***"
      ]
    }
  ]
}